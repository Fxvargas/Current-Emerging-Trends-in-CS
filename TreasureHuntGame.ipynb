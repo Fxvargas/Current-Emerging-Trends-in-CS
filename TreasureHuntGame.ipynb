{
 "cells": [
  {
   "cell_type": "markdown",
   "metadata": {},
   "source": [
    "# Treasure Hunt Game Notebook\n",
    "\n",
    "## Read and Review Your Starter Code\n",
    "The theme of this project is a popular treasure hunt game in which the player needs to find the treasure before the pirate does. While you will not be developing the entire game, you will write the part of the game that represents the intelligent agent, which is a pirate in this case. The pirate will try to find the optimal path to the treasure using deep Q-learning. \n",
    "\n",
    "You have been provided with two Python classes and this notebook to help you with this assignment. The first class, TreasureMaze.py, represents the environment, which includes a maze object defined as a matrix. The second class, GameExperience.py, stores the episodes – that is, all the states that come in between the initial state and the terminal state. This is later used by the agent for learning by experience, called \"exploration\". This notebook shows how to play a game. Your task is to complete the deep Q-learning implementation for which a skeleton implementation has been provided. The code blocs you will need to complete has #TODO as a header.\n",
    "\n",
    "First, read and review the next few code and instruction blocks to understand the code that you have been given."
   ]
  },
  {
   "cell_type": "code",
   "execution_count": 132,
   "metadata": {},
   "outputs": [],
   "source": [
    "from __future__ import print_function\n",
    "import os, sys, time, datetime, json, random\n",
    "import numpy as np\n",
    "from keras.models import Sequential\n",
    "from keras.layers.core import Dense, Activation\n",
    "from keras.optimizers import SGD , Adam, RMSprop\n",
    "from keras.layers.advanced_activations import PReLU\n",
    "import matplotlib.pyplot as plt\n",
    "from TreasureMaze import TreasureMaze\n",
    "from GameExperience import GameExperience\n",
    "%matplotlib inline"
   ]
  },
  {
   "cell_type": "markdown",
   "metadata": {},
   "source": [
    "The following code block contains an 8x8 matrix that will be used as a maze object:"
   ]
  },
  {
   "cell_type": "code",
   "execution_count": 133,
   "metadata": {},
   "outputs": [],
   "source": [
    "maze = np.array([\n",
    "    [ 1.,  0.,  1.,  1.,  1.,  1.,  1.,  1.],\n",
    "    [ 1.,  0.,  1.,  1.,  1.,  0.,  1.,  1.],\n",
    "    [ 1.,  1.,  1.,  1.,  0.,  1.,  0.,  1.],\n",
    "    [ 1.,  1.,  1.,  0.,  1.,  1.,  1.,  1.],\n",
    "    [ 1.,  1.,  0.,  1.,  1.,  1.,  1.,  1.],\n",
    "    [ 1.,  1.,  1.,  0.,  1.,  0.,  0.,  0.],\n",
    "    [ 1.,  1.,  1.,  0.,  1.,  1.,  1.,  1.],\n",
    "    [ 1.,  1.,  1.,  1.,  0.,  1.,  1.,  1.]\n",
    "])"
   ]
  },
  {
   "cell_type": "markdown",
   "metadata": {},
   "source": [
    "This helper function allows a visual representation of the maze object:"
   ]
  },
  {
   "cell_type": "code",
   "execution_count": 134,
   "metadata": {},
   "outputs": [],
   "source": [
    "def show(qmaze):\n",
    "    plt.grid('on')\n",
    "    nrows, ncols = qmaze.maze.shape\n",
    "    ax = plt.gca()\n",
    "    ax.set_xticks(np.arange(0.5, nrows, 1))\n",
    "    ax.set_yticks(np.arange(0.5, ncols, 1))\n",
    "    ax.set_xticklabels([])\n",
    "    ax.set_yticklabels([])\n",
    "    canvas = np.copy(qmaze.maze)\n",
    "    for row,col in qmaze.visited:\n",
    "        canvas[row,col] = 0.6\n",
    "    pirate_row, pirate_col, _ = qmaze.state\n",
    "    canvas[pirate_row, pirate_col] = 0.3   # pirate cell\n",
    "    canvas[nrows-1, ncols-1] = 0.9 # treasure cell\n",
    "    img = plt.imshow(canvas, interpolation='none', cmap='gray')\n",
    "    return img"
   ]
  },
  {
   "cell_type": "markdown",
   "metadata": {},
   "source": [
    "The pirate agent can move in four directions: left, right, up, and down. \n",
    "\n",
    "While the agent primarily learns by experience through exploitation, often, the agent can choose to explore the environment to find previously undiscovered paths. This is called \"exploration\" and is defined by epsilon. This value is typically a lower value such as 0.1, which means for every ten attempts, the agent will attempt to learn by experience nine times and will randomly explore a new path one time. You are encouraged to try various values for the exploration factor and see how the algorithm performs."
   ]
  },
  {
   "cell_type": "code",
   "execution_count": 135,
   "metadata": {},
   "outputs": [],
   "source": [
    "LEFT = 0\n",
    "UP = 1\n",
    "RIGHT = 2\n",
    "DOWN = 3\n",
    "\n",
    "\n",
    "# Exploration factor\n",
    "epsilon = 0.1\n",
    "\n",
    "# Actions dictionary\n",
    "actions_dict = {\n",
    "    LEFT: 'left',\n",
    "    UP: 'up',\n",
    "    RIGHT: 'right',\n",
    "    DOWN: 'down',\n",
    "}\n",
    "\n",
    "num_actions = len(actions_dict)\n"
   ]
  },
  {
   "cell_type": "markdown",
   "metadata": {},
   "source": [
    "The sample code block and output below show creating a maze object and performing one action (DOWN), which returns the reward. The resulting updated environment is visualized."
   ]
  },
  {
   "cell_type": "code",
   "execution_count": 136,
   "metadata": {},
   "outputs": [
    {
     "name": "stdout",
     "output_type": "stream",
     "text": [
      "reward= -0.04\n"
     ]
    },
    {
     "data": {
      "text/plain": [
       "<matplotlib.image.AxesImage at 0x2a996e4c848>"
      ]
     },
     "execution_count": 136,
     "metadata": {},
     "output_type": "execute_result"
    },
    {
     "data": {
      "image/png": "[encoded data removed]",
      "text/plain": [
       "<Figure size 432x288 with 1 Axes>"
      ]
     },
     "metadata": {
      "needs_background": "light"
     },
     "output_type": "display_data"
    }
   ],
   "source": [
    "qmaze = TreasureMaze(maze)\n",
    "canvas, reward, game_over = qmaze.act(DOWN)\n",
    "print(\"reward=\", reward)\n",
    "show(qmaze)"
   ]
  },
  {
   "cell_type": "markdown",
   "metadata": {},
   "source": [
    "This function simulates a full game based on the provided trained model. The other parameters include the TreasureMaze object and the starting position of the pirate."
   ]
  },
  {
   "cell_type": "code",
   "execution_count": 137,
   "metadata": {},
   "outputs": [],
   "source": [
    "def play_game(model, qmaze, pirate_cell):\n",
    "    qmaze.reset(pirate_cell)\n",
    "    envstate = qmaze.observe()\n",
    "    while True:\n",
    "        prev_envstate = envstate\n",
    "        # get next action\n",
    "        q = model.predict(prev_envstate)\n",
    "        action = np.argmax(q[0])\n",
    "\n",
    "        # apply action, get rewards and new state\n",
    "        envstate, reward, game_status = qmaze.act(action)\n",
    "        if game_status == 'win':\n",
    "            return True\n",
    "        elif game_status == 'lose':\n",
    "            return False"
   ]
  },
  {
   "cell_type": "markdown",
   "metadata": {},
   "source": [
    "This function helps you to determine whether the pirate can win any game at all. If your maze is not well designed, the pirate may not win any game at all. In this case, your training would not yield any result. The provided maze in this notebook ensures that there is a path to win and you can run this method to check."
   ]
  },
  {
   "cell_type": "code",
   "execution_count": 138,
   "metadata": {},
   "outputs": [],
   "source": [
    "def completion_check(model, qmaze):\n",
    "    for cell in qmaze.free_cells:\n",
    "        if not qmaze.valid_actions(cell):\n",
    "            return False\n",
    "        if not play_game(model, qmaze, cell):\n",
    "            return False\n",
    "    return True"
   ]
  },
  {
   "cell_type": "markdown",
   "metadata": {},
   "source": [
    "The code you have been given in this block will build the neural network model. Review the code and note the number of layers, as well as the activation, optimizer, and loss functions that are used to train the model."
   ]
  },
  {
   "cell_type": "code",
   "execution_count": 139,
   "metadata": {},
   "outputs": [],
   "source": [
    "def build_model(maze):\n",
    "    model = Sequential()\n",
    "    model.add(Dense(maze.size, input_shape=(maze.size,)))\n",
    "    model.add(PReLU())\n",
    "    model.add(Dense(maze.size))\n",
    "    model.add(PReLU())\n",
    "    model.add(Dense(num_actions))\n",
    "    model.compile(optimizer='adam', loss='mse')\n",
    "    return model"
   ]
  },
  {
   "cell_type": "markdown",
   "metadata": {},
   "source": [
    "# #TODO: Complete the Q-Training Algorithm Code Block\n",
    "\n",
    "This is your deep Q-learning implementation. The goal of your deep Q-learning implementation is to find the best possible navigation sequence that results in reaching the treasure cell while maximizing the reward. In your implementation, you need to determine the optimal number of epochs to achieve a 100% win rate.\n",
    "\n",
    "You will need to complete the section starting with #pseudocode. The pseudocode has been included for you."
   ]
  },
  {
   "cell_type": "code",
   "execution_count": 140,
   "metadata": {},
   "outputs": [],
   "source": [
    "def qtrain(model, maze, **opt):\n",
    "\n",
    "    # exploration factor\n",
    "    global epsilon \n",
    "\n",
    "    # number of epochs\n",
    "    n_epoch = opt.get('n_epoch', 15000)\n",
    "\n",
    "    # maximum memory to store episodes\n",
    "    max_memory = opt.get('max_memory', 1000)\n",
    "\n",
    "    # maximum data size for training\n",
    "    data_size = opt.get('data_size', 50)\n",
    "\n",
    "    # start time\n",
    "    start_time = datetime.datetime.now()\n",
    "\n",
    "    # Construct environment/game from numpy array: maze (see above)\n",
    "    qmaze = TreasureMaze(maze)\n",
    "\n",
    "    # Initialize experience replay object\n",
    "    experience = GameExperience(model, max_memory=max_memory)\n",
    "    \n",
    "    win_history = []   # history of win/lose game\n",
    "    hsize = qmaze.maze.size//2   # history window size\n",
    "    win_rate = 0.0\n",
    "    \n",
    "    # pseudocode:\n",
    "    # For each epoch:\n",
    "    #    Agent_cell = randomly select a free cell\n",
    "    #    Reset the maze with agent set to above position\n",
    "    #    Hint: Review the reset method in the TreasureMaze.py class.\n",
    "    \n",
    "    for i in range(n_epoch):\n",
    "        Agent_cell = random.choice(qmaze.free_cells)\n",
    "        qmaze.reset(Agent_cell)\n",
    "        done = False\n",
    "    #    envstate = Environment.current_state\n",
    "        envstate = qmaze.observe()\n",
    "            \n",
    "        step = 0\n",
    "            \n",
    "    #    While state is not game over:\n",
    "    #        previous_envstate = envstate\n",
    "    #        Action = randomly choose action (left, right, up, down) either by exploration or by exploitation\n",
    "    #        envstate, reward, game_status = qmaze.act(action)\n",
    "            \n",
    "        while not done:\n",
    "            valid_actions = qmaze.valid_actions()\n",
    "            if not valid_actions: break\n",
    "            prev_envstate = envstate\n",
    "                \n",
    "            if np.random.rand() < epsilon:\n",
    "                action = random.choice(valid_actions)\n",
    "                    \n",
    "            else:\n",
    "                action = np.argmax(experience.predict(prev_envstate))\n",
    "                    \n",
    "            envstate, reward, game_status = qmaze.act(action)\n",
    "            if game_status == 'win':\n",
    "                win_history.append(1)\n",
    "                done = True\n",
    "                \n",
    "            elif game_status == 'lose':\n",
    "                win_history.append(0)\n",
    "                done = True\n",
    "                    \n",
    "            else:\n",
    "                done = False\n",
    "                    \n",
    "                    \n",
    "    #        episode = [previous_envstate, action, reward, envstate, game_status]\n",
    "    #        Store episode in Experience replay object\n",
    "            episode = [prev_envstate, action, reward, envstate, game_status]\n",
    "            experience.remember(episode)\n",
    "                \n",
    "            step = step + 1\n",
    "                \n",
    "    #        Train neural network model and evaluate loss\n",
    "    #          to train the model. You can call model.evaluate to determine loss.\n",
    "                \n",
    "            inputs, targets = experience.get_data(data_size = data_size)\n",
    "    #        targets = experience.get_data(data_size = data_size)\n",
    "                \n",
    "            h = model.fit(\n",
    "                inputs,\n",
    "                targets,\n",
    "                epochs=8,\n",
    "                batch_size=16,\n",
    "                verbose=0,\n",
    "            )\n",
    "            loss = model.evaluate(inputs, targets, verbose=0)\n",
    "                \n",
    "    #    If the win rate is above the threshold and your model passes the completion check, that would be your epoch.\n",
    "                \n",
    "        if len(win_history) > hsize:\n",
    "            win_rate = sum(win_history[-hsize:]) / hsize\n",
    "                    \n",
    "                \n",
    "    \n",
    "    \n",
    "\n",
    "\n",
    "\n",
    "\n",
    "\n",
    "\n",
    "\n",
    "\n",
    "\n",
    "\n",
    "\n",
    "    #Print the epoch, loss, episodes, win count, and win rate for each epoch\n",
    "        dt = datetime.datetime.now() - start_time\n",
    "        t = format_time(dt.total_seconds())\n",
    "        template = \"Epoch: {:03d}/{:d} | Loss: {:.4f} | Episodes: {:d} | Win count: {:d} | Win rate: {:.3f} | time: {}\"\n",
    "        print(template.format(i, n_epoch-1, loss, step, sum(win_history), win_rate, t))\n",
    "        # We simply check if training has exhausted all free cells and if in all\n",
    "        # cases the agent won.\n",
    "        if win_rate > 0.9 : epsilon = 0.05\n",
    "        if sum(win_history[-hsize:]) == hsize and completion_check(model, qmaze):\n",
    "            print(\"Reached 100%% win rate at epoch: %d\" % (epoch,))\n",
    "            break\n",
    "    \n",
    "    \n",
    "    # Determine the total time for training\n",
    "    dt = datetime.datetime.now() - start_time\n",
    "    seconds = dt.total_seconds()\n",
    "    t = format_time(seconds)\n",
    "\n",
    "    print(\"n_epoch: %d, max_mem: %d, data: %d, time: %s\" % (epoch, max_memory, data_size, t))\n",
    "    return seconds\n",
    "\n",
    "# This is a small utility for printing readable time strings:\n",
    "def format_time(seconds):\n",
    "    if seconds < 400:\n",
    "        s = float(seconds)\n",
    "        return \"%.1f seconds\" % (s,)\n",
    "    elif seconds < 4000:\n",
    "        m = seconds / 60.0\n",
    "        return \"%.2f minutes\" % (m,)\n",
    "    else:\n",
    "        h = seconds / 3600.0\n",
    "        return \"%.2f hours\" % (h,)"
   ]
  },
  {
   "cell_type": "markdown",
   "metadata": {},
   "source": [
    "## Test Your Model\n",
    "\n",
    "Now we will start testing the deep Q-learning implementation. To begin, select **Cell**, then **Run All** from the menu bar. This will run your notebook. As it runs, you should see output begin to appear beneath the next few cells. The code below creates an instance of TreasureMaze."
   ]
  },
  {
   "cell_type": "code",
   "execution_count": 141,
   "metadata": {},
   "outputs": [
    {
     "data": {
      "text/plain": [
       "<matplotlib.image.AxesImage at 0x2a996eea108>"
      ]
     },
     "execution_count": 141,
     "metadata": {},
     "output_type": "execute_result"
    },
    {
     "data": {
      "image/png": "[encoded data removed]",
      "text/plain": [
       "<Figure size 432x288 with 1 Axes>"
      ]
     },
     "metadata": {
      "needs_background": "light"
     },
     "output_type": "display_data"
    }
   ],
   "source": [
    "qmaze = TreasureMaze(maze)\n",
    "show(qmaze)"
   ]
  },
  {
   "cell_type": "markdown",
   "metadata": {},
   "source": [
    "In the next code block, you will build your model and train it using deep Q-learning. Note: This step takes several minutes to fully run."
   ]
  },
  {
   "cell_type": "code",
   "execution_count": 142,
   "metadata": {
    "scrolled": true
   },
   "outputs": [
    {
     "name": "stdout",
     "output_type": "stream",
     "text": [
      "Epoch: 000/14999 | Loss: 0.0007 | Episodes: 137 | Win count: 0 | Win rate: 0.000 | time: 11.6 seconds\n",
      "Epoch: 001/14999 | Loss: 0.0002 | Episodes: 138 | Win count: 0 | Win rate: 0.000 | time: 23.6 seconds\n",
      "Epoch: 002/14999 | Loss: 0.0008 | Episodes: 142 | Win count: 0 | Win rate: 0.000 | time: 34.7 seconds\n",
      "Epoch: 003/14999 | Loss: 0.0013 | Episodes: 140 | Win count: 0 | Win rate: 0.000 | time: 46.1 seconds\n",
      "Epoch: 004/14999 | Loss: 0.0001 | Episodes: 136 | Win count: 0 | Win rate: 0.000 | time: 56.9 seconds\n",
      "Epoch: 005/14999 | Loss: 0.0010 | Episodes: 140 | Win count: 0 | Win rate: 0.000 | time: 67.8 seconds\n",
      "Epoch: 006/14999 | Loss: 0.0005 | Episodes: 144 | Win count: 0 | Win rate: 0.000 | time: 79.0 seconds\n",
      "Epoch: 007/14999 | Loss: 0.0008 | Episodes: 81 | Win count: 1 | Win rate: 0.000 | time: 85.4 seconds\n",
      "Epoch: 008/14999 | Loss: 0.0032 | Episodes: 150 | Win count: 1 | Win rate: 0.000 | time: 97.1 seconds\n",
      "Epoch: 009/14999 | Loss: 0.0010 | Episodes: 17 | Win count: 2 | Win rate: 0.000 | time: 98.4 seconds\n",
      "Epoch: 010/14999 | Loss: 0.0007 | Episodes: 36 | Win count: 3 | Win rate: 0.000 | time: 101.2 seconds\n",
      "Epoch: 011/14999 | Loss: 0.0011 | Episodes: 136 | Win count: 3 | Win rate: 0.000 | time: 112.3 seconds\n",
      "Epoch: 012/14999 | Loss: 0.0005 | Episodes: 135 | Win count: 3 | Win rate: 0.000 | time: 123.6 seconds\n",
      "Epoch: 013/14999 | Loss: 0.0005 | Episodes: 18 | Win count: 4 | Win rate: 0.000 | time: 125.0 seconds\n",
      "Epoch: 014/14999 | Loss: 0.0006 | Episodes: 3 | Win count: 5 | Win rate: 0.000 | time: 125.2 seconds\n",
      "Epoch: 015/14999 | Loss: 0.0005 | Episodes: 88 | Win count: 6 | Win rate: 0.000 | time: 132.4 seconds\n",
      "Epoch: 016/14999 | Loss: 0.0007 | Episodes: 43 | Win count: 7 | Win rate: 0.000 | time: 136.0 seconds\n",
      "Epoch: 017/14999 | Loss: 0.0010 | Episodes: 52 | Win count: 8 | Win rate: 0.000 | time: 140.2 seconds\n",
      "Epoch: 018/14999 | Loss: 0.0013 | Episodes: 60 | Win count: 9 | Win rate: 0.000 | time: 145.1 seconds\n",
      "Epoch: 019/14999 | Loss: 0.0012 | Episodes: 54 | Win count: 10 | Win rate: 0.000 | time: 149.4 seconds\n",
      "Epoch: 020/14999 | Loss: 0.0011 | Episodes: 11 | Win count: 11 | Win rate: 0.000 | time: 150.5 seconds\n",
      "Epoch: 021/14999 | Loss: 0.0008 | Episodes: 16 | Win count: 12 | Win rate: 0.000 | time: 151.7 seconds\n",
      "Epoch: 022/14999 | Loss: 0.0008 | Episodes: 62 | Win count: 13 | Win rate: 0.000 | time: 156.8 seconds\n",
      "Epoch: 023/14999 | Loss: 0.0019 | Episodes: 62 | Win count: 14 | Win rate: 0.000 | time: 161.7 seconds\n",
      "Epoch: 024/14999 | Loss: 0.0016 | Episodes: 74 | Win count: 15 | Win rate: 0.000 | time: 168.1 seconds\n",
      "Epoch: 025/14999 | Loss: 0.0006 | Episodes: 24 | Win count: 16 | Win rate: 0.000 | time: 170.1 seconds\n",
      "Epoch: 026/14999 | Loss: 0.0012 | Episodes: 21 | Win count: 17 | Win rate: 0.000 | time: 171.7 seconds\n",
      "Epoch: 027/14999 | Loss: 0.0016 | Episodes: 8 | Win count: 18 | Win rate: 0.000 | time: 172.4 seconds\n",
      "Epoch: 028/14999 | Loss: 0.0016 | Episodes: 20 | Win count: 19 | Win rate: 0.000 | time: 174.0 seconds\n",
      "Epoch: 029/14999 | Loss: 0.0011 | Episodes: 42 | Win count: 20 | Win rate: 0.000 | time: 177.3 seconds\n",
      "Epoch: 030/14999 | Loss: 0.0012 | Episodes: 30 | Win count: 21 | Win rate: 0.000 | time: 179.9 seconds\n",
      "Epoch: 031/14999 | Loss: 0.0008 | Episodes: 39 | Win count: 22 | Win rate: 0.000 | time: 183.3 seconds\n",
      "Epoch: 032/14999 | Loss: 0.0008 | Episodes: 7 | Win count: 23 | Win rate: 0.719 | time: 184.0 seconds\n",
      "Epoch: 033/14999 | Loss: 0.0009 | Episodes: 10 | Win count: 24 | Win rate: 0.750 | time: 184.8 seconds\n",
      "Epoch: 034/14999 | Loss: 0.0012 | Episodes: 69 | Win count: 25 | Win rate: 0.781 | time: 190.6 seconds\n",
      "Epoch: 035/14999 | Loss: 0.0009 | Episodes: 27 | Win count: 26 | Win rate: 0.812 | time: 192.9 seconds\n",
      "Epoch: 036/14999 | Loss: 0.0009 | Episodes: 29 | Win count: 27 | Win rate: 0.844 | time: 195.6 seconds\n",
      "Epoch: 037/14999 | Loss: 0.0009 | Episodes: 8 | Win count: 28 | Win rate: 0.875 | time: 196.3 seconds\n",
      "Epoch: 038/14999 | Loss: 0.0006 | Episodes: 59 | Win count: 29 | Win rate: 0.906 | time: 201.3 seconds\n",
      "Epoch: 039/14999 | Loss: 0.0009 | Episodes: 11 | Win count: 30 | Win rate: 0.906 | time: 202.3 seconds\n",
      "Epoch: 040/14999 | Loss: 0.0003 | Episodes: 34 | Win count: 31 | Win rate: 0.938 | time: 205.3 seconds\n",
      "Epoch: 041/14999 | Loss: 0.0010 | Episodes: 105 | Win count: 32 | Win rate: 0.938 | time: 214.3 seconds\n",
      "Epoch: 042/14999 | Loss: 0.0011 | Episodes: 51 | Win count: 33 | Win rate: 0.938 | time: 219.2 seconds\n",
      "Epoch: 043/14999 | Loss: 0.0011 | Episodes: 30 | Win count: 34 | Win rate: 0.969 | time: 222.6 seconds\n",
      "Epoch: 044/14999 | Loss: 0.0009 | Episodes: 47 | Win count: 35 | Win rate: 1.000 | time: 227.0 seconds\n",
      "Epoch: 045/14999 | Loss: 0.0014 | Episodes: 11 | Win count: 36 | Win rate: 1.000 | time: 228.0 seconds\n",
      "Epoch: 046/14999 | Loss: 0.0010 | Episodes: 53 | Win count: 37 | Win rate: 1.000 | time: 232.6 seconds\n",
      "Epoch: 047/14999 | Loss: 0.0014 | Episodes: 8 | Win count: 38 | Win rate: 1.000 | time: 233.3 seconds\n",
      "Epoch: 048/14999 | Loss: 0.0009 | Episodes: 4 | Win count: 39 | Win rate: 1.000 | time: 233.8 seconds\n",
      "Epoch: 049/14999 | Loss: 0.0017 | Episodes: 23 | Win count: 40 | Win rate: 1.000 | time: 235.7 seconds\n",
      "Epoch: 050/14999 | Loss: 0.0006 | Episodes: 29 | Win count: 41 | Win rate: 1.000 | time: 238.3 seconds\n",
      "Epoch: 051/14999 | Loss: 0.0012 | Episodes: 28 | Win count: 42 | Win rate: 1.000 | time: 240.6 seconds\n",
      "Epoch: 052/14999 | Loss: 0.0006 | Episodes: 28 | Win count: 43 | Win rate: 1.000 | time: 242.9 seconds\n",
      "Epoch: 053/14999 | Loss: 0.0101 | Episodes: 4 | Win count: 44 | Win rate: 1.000 | time: 243.5 seconds\n",
      "Epoch: 054/14999 | Loss: 0.0012 | Episodes: 56 | Win count: 45 | Win rate: 1.000 | time: 248.2 seconds\n",
      "Epoch: 055/14999 | Loss: 0.0071 | Episodes: 7 | Win count: 46 | Win rate: 1.000 | time: 248.9 seconds\n",
      "Epoch: 056/14999 | Loss: 0.0012 | Episodes: 1 | Win count: 47 | Win rate: 1.000 | time: 249.1 seconds\n",
      "Epoch: 057/14999 | Loss: 0.0012 | Episodes: 11 | Win count: 48 | Win rate: 1.000 | time: 250.1 seconds\n",
      "Epoch: 058/14999 | Loss: 0.0011 | Episodes: 51 | Win count: 49 | Win rate: 1.000 | time: 254.3 seconds\n",
      "Epoch: 059/14999 | Loss: 0.0006 | Episodes: 26 | Win count: 50 | Win rate: 1.000 | time: 256.5 seconds\n",
      "Epoch: 060/14999 | Loss: 0.0010 | Episodes: 8 | Win count: 51 | Win rate: 1.000 | time: 257.3 seconds\n",
      "Epoch: 061/14999 | Loss: 0.0003 | Episodes: 46 | Win count: 52 | Win rate: 1.000 | time: 261.1 seconds\n",
      "Epoch: 062/14999 | Loss: 0.0008 | Episodes: 4 | Win count: 53 | Win rate: 1.000 | time: 261.6 seconds\n",
      "Epoch: 063/14999 | Loss: 0.0009 | Episodes: 12 | Win count: 54 | Win rate: 1.000 | time: 262.9 seconds\n",
      "Epoch: 064/14999 | Loss: 0.0003 | Episodes: 12 | Win count: 55 | Win rate: 1.000 | time: 264.0 seconds\n",
      "Epoch: 065/14999 | Loss: 0.0013 | Episodes: 54 | Win count: 56 | Win rate: 1.000 | time: 268.3 seconds\n",
      "Epoch: 066/14999 | Loss: 0.0009 | Episodes: 26 | Win count: 57 | Win rate: 1.000 | time: 270.7 seconds\n",
      "Epoch: 067/14999 | Loss: 0.0007 | Episodes: 10 | Win count: 58 | Win rate: 1.000 | time: 271.6 seconds\n",
      "Epoch: 068/14999 | Loss: 0.0008 | Episodes: 10 | Win count: 59 | Win rate: 1.000 | time: 272.5 seconds\n",
      "Epoch: 069/14999 | Loss: 0.0012 | Episodes: 2 | Win count: 60 | Win rate: 1.000 | time: 273.0 seconds\n",
      "Epoch: 070/14999 | Loss: 0.0009 | Episodes: 25 | Win count: 61 | Win rate: 1.000 | time: 275.3 seconds\n",
      "Epoch: 071/14999 | Loss: 0.0004 | Episodes: 17 | Win count: 62 | Win rate: 1.000 | time: 277.1 seconds\n",
      "Epoch: 072/14999 | Loss: 0.0011 | Episodes: 27 | Win count: 63 | Win rate: 1.000 | time: 279.6 seconds\n",
      "Epoch: 073/14999 | Loss: 0.0002 | Episodes: 9 | Win count: 64 | Win rate: 1.000 | time: 280.7 seconds\n",
      "Epoch: 074/14999 | Loss: 0.0007 | Episodes: 29 | Win count: 65 | Win rate: 1.000 | time: 283.2 seconds\n",
      "Epoch: 075/14999 | Loss: 0.0008 | Episodes: 29 | Win count: 66 | Win rate: 1.000 | time: 285.9 seconds\n",
      "Epoch: 076/14999 | Loss: 0.0009 | Episodes: 27 | Win count: 67 | Win rate: 1.000 | time: 288.4 seconds\n",
      "Epoch: 077/14999 | Loss: 0.0006 | Episodes: 23 | Win count: 68 | Win rate: 1.000 | time: 290.4 seconds\n",
      "Epoch: 078/14999 | Loss: 0.0003 | Episodes: 4 | Win count: 69 | Win rate: 1.000 | time: 291.0 seconds\n",
      "Epoch: 079/14999 | Loss: 0.0005 | Episodes: 31 | Win count: 70 | Win rate: 1.000 | time: 293.6 seconds\n"
     ]
    },
    {
     "name": "stdout",
     "output_type": "stream",
     "text": [
      "Epoch: 080/14999 | Loss: 0.0005 | Episodes: 13 | Win count: 71 | Win rate: 1.000 | time: 295.0 seconds\n",
      "Epoch: 081/14999 | Loss: 0.0005 | Episodes: 23 | Win count: 72 | Win rate: 1.000 | time: 296.9 seconds\n",
      "Epoch: 082/14999 | Loss: 0.0001 | Episodes: 46 | Win count: 73 | Win rate: 1.000 | time: 300.9 seconds\n",
      "Epoch: 083/14999 | Loss: 0.0001 | Episodes: 29 | Win count: 74 | Win rate: 1.000 | time: 303.4 seconds\n",
      "Epoch: 084/14999 | Loss: 0.0003 | Episodes: 1 | Win count: 75 | Win rate: 1.000 | time: 303.8 seconds\n",
      "Epoch: 085/14999 | Loss: 0.0002 | Episodes: 12 | Win count: 76 | Win rate: 1.000 | time: 305.2 seconds\n",
      "Epoch: 086/14999 | Loss: 0.0005 | Episodes: 27 | Win count: 77 | Win rate: 1.000 | time: 307.5 seconds\n",
      "Epoch: 087/14999 | Loss: 0.0002 | Episodes: 16 | Win count: 78 | Win rate: 1.000 | time: 308.9 seconds\n",
      "Epoch: 088/14999 | Loss: 0.0002 | Episodes: 9 | Win count: 79 | Win rate: 1.000 | time: 309.9 seconds\n",
      "Epoch: 089/14999 | Loss: 0.0001 | Episodes: 26 | Win count: 80 | Win rate: 1.000 | time: 313.6 seconds\n",
      "Epoch: 090/14999 | Loss: 0.0000 | Episodes: 26 | Win count: 81 | Win rate: 1.000 | time: 318.9 seconds\n",
      "Epoch: 091/14999 | Loss: 0.0002 | Episodes: 32 | Win count: 82 | Win rate: 1.000 | time: 322.4 seconds\n",
      "Epoch: 092/14999 | Loss: 0.0004 | Episodes: 28 | Win count: 83 | Win rate: 1.000 | time: 325.0 seconds\n",
      "Epoch: 093/14999 | Loss: 0.0002 | Episodes: 29 | Win count: 84 | Win rate: 1.000 | time: 328.1 seconds\n",
      "Epoch: 094/14999 | Loss: 0.0004 | Episodes: 22 | Win count: 85 | Win rate: 1.000 | time: 330.8 seconds\n",
      "Epoch: 095/14999 | Loss: 0.0001 | Episodes: 11 | Win count: 86 | Win rate: 1.000 | time: 332.2 seconds\n",
      "Epoch: 096/14999 | Loss: 0.0000 | Episodes: 20 | Win count: 87 | Win rate: 1.000 | time: 334.5 seconds\n",
      "Epoch: 097/14999 | Loss: 0.0001 | Episodes: 21 | Win count: 88 | Win rate: 1.000 | time: 337.6 seconds\n",
      "Epoch: 098/14999 | Loss: 0.0000 | Episodes: 15 | Win count: 89 | Win rate: 1.000 | time: 339.5 seconds\n",
      "Epoch: 099/14999 | Loss: 0.0000 | Episodes: 16 | Win count: 90 | Win rate: 1.000 | time: 342.3 seconds\n",
      "Epoch: 100/14999 | Loss: 0.0000 | Episodes: 29 | Win count: 91 | Win rate: 1.000 | time: 345.5 seconds\n",
      "Epoch: 101/14999 | Loss: 0.0001 | Episodes: 29 | Win count: 92 | Win rate: 1.000 | time: 348.7 seconds\n",
      "Epoch: 102/14999 | Loss: 0.0001 | Episodes: 10 | Win count: 93 | Win rate: 1.000 | time: 350.0 seconds\n",
      "Epoch: 103/14999 | Loss: 0.0000 | Episodes: 14 | Win count: 94 | Win rate: 1.000 | time: 352.5 seconds\n",
      "Epoch: 104/14999 | Loss: 0.0006 | Episodes: 41 | Win count: 95 | Win rate: 1.000 | time: 357.4 seconds\n",
      "Epoch: 105/14999 | Loss: 0.0001 | Episodes: 27 | Win count: 96 | Win rate: 1.000 | time: 359.8 seconds\n",
      "Epoch: 106/14999 | Loss: 0.0000 | Episodes: 19 | Win count: 97 | Win rate: 1.000 | time: 361.8 seconds\n",
      "Epoch: 107/14999 | Loss: 0.0002 | Episodes: 3 | Win count: 98 | Win rate: 1.000 | time: 362.7 seconds\n",
      "Epoch: 108/14999 | Loss: 0.0007 | Episodes: 23 | Win count: 99 | Win rate: 1.000 | time: 365.6 seconds\n",
      "Epoch: 109/14999 | Loss: 0.0003 | Episodes: 19 | Win count: 100 | Win rate: 1.000 | time: 368.0 seconds\n",
      "Epoch: 110/14999 | Loss: 0.0003 | Episodes: 23 | Win count: 101 | Win rate: 1.000 | time: 370.3 seconds\n",
      "Epoch: 111/14999 | Loss: 0.0001 | Episodes: 3 | Win count: 102 | Win rate: 1.000 | time: 370.9 seconds\n",
      "Epoch: 112/14999 | Loss: 0.0003 | Episodes: 19 | Win count: 103 | Win rate: 1.000 | time: 372.8 seconds\n",
      "Epoch: 113/14999 | Loss: 0.0000 | Episodes: 27 | Win count: 104 | Win rate: 1.000 | time: 375.4 seconds\n",
      "Epoch: 114/14999 | Loss: 0.0000 | Episodes: 22 | Win count: 105 | Win rate: 1.000 | time: 377.7 seconds\n",
      "Epoch: 115/14999 | Loss: 0.0000 | Episodes: 15 | Win count: 106 | Win rate: 1.000 | time: 379.2 seconds\n",
      "Epoch: 116/14999 | Loss: 0.0000 | Episodes: 12 | Win count: 107 | Win rate: 1.000 | time: 381.1 seconds\n",
      "Epoch: 117/14999 | Loss: 0.0000 | Episodes: 5 | Win count: 108 | Win rate: 1.000 | time: 381.9 seconds\n",
      "Epoch: 118/14999 | Loss: 0.0001 | Episodes: 20 | Win count: 109 | Win rate: 1.000 | time: 385.0 seconds\n",
      "Epoch: 119/14999 | Loss: 0.0001 | Episodes: 34 | Win count: 110 | Win rate: 1.000 | time: 388.9 seconds\n",
      "Epoch: 120/14999 | Loss: 0.0003 | Episodes: 11 | Win count: 111 | Win rate: 1.000 | time: 390.2 seconds\n",
      "Epoch: 121/14999 | Loss: 0.0000 | Episodes: 16 | Win count: 112 | Win rate: 1.000 | time: 391.6 seconds\n",
      "Epoch: 122/14999 | Loss: 0.0001 | Episodes: 11 | Win count: 113 | Win rate: 1.000 | time: 392.7 seconds\n",
      "Epoch: 123/14999 | Loss: 0.0006 | Episodes: 7 | Win count: 114 | Win rate: 1.000 | time: 393.3 seconds\n",
      "Epoch: 124/14999 | Loss: 0.0004 | Episodes: 26 | Win count: 115 | Win rate: 1.000 | time: 395.5 seconds\n",
      "Epoch: 125/14999 | Loss: 0.0002 | Episodes: 1 | Win count: 116 | Win rate: 1.000 | time: 395.6 seconds\n",
      "Epoch: 126/14999 | Loss: 0.0001 | Episodes: 11 | Win count: 117 | Win rate: 1.000 | time: 396.7 seconds\n",
      "Epoch: 127/14999 | Loss: 0.0003 | Episodes: 1 | Win count: 118 | Win rate: 1.000 | time: 396.9 seconds\n",
      "Epoch: 128/14999 | Loss: 0.0005 | Episodes: 44 | Win count: 119 | Win rate: 1.000 | time: 6.68 minutes\n",
      "Epoch: 129/14999 | Loss: 0.0003 | Episodes: 7 | Win count: 120 | Win rate: 1.000 | time: 6.69 minutes\n",
      "Epoch: 130/14999 | Loss: 0.0004 | Episodes: 25 | Win count: 121 | Win rate: 1.000 | time: 6.73 minutes\n",
      "Epoch: 131/14999 | Loss: 0.0009 | Episodes: 8 | Win count: 122 | Win rate: 1.000 | time: 6.74 minutes\n",
      "Epoch: 132/14999 | Loss: 0.0003 | Episodes: 9 | Win count: 123 | Win rate: 1.000 | time: 6.76 minutes\n",
      "Epoch: 133/14999 | Loss: 0.0005 | Episodes: 18 | Win count: 124 | Win rate: 1.000 | time: 6.79 minutes\n",
      "Epoch: 134/14999 | Loss: 0.0008 | Episodes: 21 | Win count: 125 | Win rate: 1.000 | time: 6.82 minutes\n",
      "Epoch: 135/14999 | Loss: 0.0002 | Episodes: 22 | Win count: 126 | Win rate: 1.000 | time: 6.86 minutes\n",
      "Epoch: 136/14999 | Loss: 0.0005 | Episodes: 25 | Win count: 127 | Win rate: 1.000 | time: 6.91 minutes\n",
      "Epoch: 137/14999 | Loss: 0.0002 | Episodes: 28 | Win count: 128 | Win rate: 1.000 | time: 6.96 minutes\n",
      "Epoch: 138/14999 | Loss: 0.0006 | Episodes: 10 | Win count: 129 | Win rate: 1.000 | time: 6.98 minutes\n",
      "Epoch: 139/14999 | Loss: 0.0003 | Episodes: 68 | Win count: 130 | Win rate: 1.000 | time: 7.08 minutes\n",
      "Epoch: 140/14999 | Loss: 0.0008 | Episodes: 4 | Win count: 131 | Win rate: 1.000 | time: 7.10 minutes\n",
      "Epoch: 141/14999 | Loss: 0.0003 | Episodes: 16 | Win count: 132 | Win rate: 1.000 | time: 7.13 minutes\n",
      "Epoch: 142/14999 | Loss: 0.0009 | Episodes: 15 | Win count: 133 | Win rate: 1.000 | time: 7.16 minutes\n",
      "Epoch: 143/14999 | Loss: 0.0011 | Episodes: 23 | Win count: 134 | Win rate: 1.000 | time: 7.19 minutes\n",
      "Epoch: 144/14999 | Loss: 0.0009 | Episodes: 23 | Win count: 135 | Win rate: 1.000 | time: 7.23 minutes\n",
      "Epoch: 145/14999 | Loss: 0.0005 | Episodes: 34 | Win count: 136 | Win rate: 1.000 | time: 7.29 minutes\n",
      "Epoch: 146/14999 | Loss: 0.0009 | Episodes: 28 | Win count: 137 | Win rate: 1.000 | time: 7.33 minutes\n",
      "Epoch: 147/14999 | Loss: 0.0002 | Episodes: 8 | Win count: 138 | Win rate: 1.000 | time: 7.35 minutes\n",
      "Epoch: 148/14999 | Loss: 0.0003 | Episodes: 37 | Win count: 139 | Win rate: 1.000 | time: 7.40 minutes\n"
     ]
    },
    {
     "ename": "KeyboardInterrupt",
     "evalue": "",
     "output_type": "error",
     "traceback": [
      "\u001b[1;31m---------------------------------------------------------------------------\u001b[0m",
      "\u001b[1;31mKeyboardInterrupt\u001b[0m                         Traceback (most recent call last)",
      "\u001b[1;32m<ipython-input-142-3f866ecde593>\u001b[0m in \u001b[0;36m<module>\u001b[1;34m\u001b[0m\n\u001b[0;32m      1\u001b[0m \u001b[0mmodel\u001b[0m \u001b[1;33m=\u001b[0m \u001b[0mbuild_model\u001b[0m\u001b[1;33m(\u001b[0m\u001b[0mmaze\u001b[0m\u001b[1;33m)\u001b[0m\u001b[1;33m\u001b[0m\u001b[1;33m\u001b[0m\u001b[0m\n\u001b[1;32m----> 2\u001b[1;33m \u001b[0mqtrain\u001b[0m\u001b[1;33m(\u001b[0m\u001b[0mmodel\u001b[0m\u001b[1;33m,\u001b[0m \u001b[0mmaze\u001b[0m\u001b[1;33m,\u001b[0m \u001b[0mepochs\u001b[0m\u001b[1;33m=\u001b[0m\u001b[1;36m1000\u001b[0m\u001b[1;33m,\u001b[0m \u001b[0mmax_memory\u001b[0m\u001b[1;33m=\u001b[0m\u001b[1;36m8\u001b[0m\u001b[1;33m*\u001b[0m\u001b[0mmaze\u001b[0m\u001b[1;33m.\u001b[0m\u001b[0msize\u001b[0m\u001b[1;33m,\u001b[0m \u001b[0mdata_size\u001b[0m\u001b[1;33m=\u001b[0m\u001b[1;36m32\u001b[0m\u001b[1;33m)\u001b[0m\u001b[1;33m\u001b[0m\u001b[1;33m\u001b[0m\u001b[0m\n\u001b[0m",
      "\u001b[1;32m<ipython-input-140-70d63b0b19e1>\u001b[0m in \u001b[0;36mqtrain\u001b[1;34m(model, maze, **opt)\u001b[0m\n\u001b[0;32m     80\u001b[0m     \u001b[1;31m#          to train the model. You can call model.evaluate to determine loss.\u001b[0m\u001b[1;33m\u001b[0m\u001b[1;33m\u001b[0m\u001b[1;33m\u001b[0m\u001b[0m\n\u001b[0;32m     81\u001b[0m \u001b[1;33m\u001b[0m\u001b[0m\n\u001b[1;32m---> 82\u001b[1;33m             \u001b[0minputs\u001b[0m\u001b[1;33m,\u001b[0m \u001b[0mtargets\u001b[0m \u001b[1;33m=\u001b[0m \u001b[0mexperience\u001b[0m\u001b[1;33m.\u001b[0m\u001b[0mget_data\u001b[0m\u001b[1;33m(\u001b[0m\u001b[0mdata_size\u001b[0m \u001b[1;33m=\u001b[0m \u001b[0mdata_size\u001b[0m\u001b[1;33m)\u001b[0m\u001b[1;33m\u001b[0m\u001b[1;33m\u001b[0m\u001b[0m\n\u001b[0m\u001b[0;32m     83\u001b[0m     \u001b[1;31m#        targets = experience.get_data(data_size = data_size)\u001b[0m\u001b[1;33m\u001b[0m\u001b[1;33m\u001b[0m\u001b[1;33m\u001b[0m\u001b[0m\n\u001b[0;32m     84\u001b[0m \u001b[1;33m\u001b[0m\u001b[0m\n",
      "\u001b[1;32mU:\\TreasureHuntGame\\GameExperience.py\u001b[0m in \u001b[0;36mget_data\u001b[1;34m(self, data_size)\u001b[0m\n\u001b[0;32m     44\u001b[0m             \u001b[0mtargets\u001b[0m\u001b[1;33m[\u001b[0m\u001b[0mi\u001b[0m\u001b[1;33m]\u001b[0m \u001b[1;33m=\u001b[0m \u001b[0mself\u001b[0m\u001b[1;33m.\u001b[0m\u001b[0mpredict\u001b[0m\u001b[1;33m(\u001b[0m\u001b[0menvstate\u001b[0m\u001b[1;33m)\u001b[0m\u001b[1;33m\u001b[0m\u001b[1;33m\u001b[0m\u001b[0m\n\u001b[0;32m     45\u001b[0m             \u001b[1;31m# Q_sa = derived policy = max quality env/action = max_a' Q(s', a')\u001b[0m\u001b[1;33m\u001b[0m\u001b[1;33m\u001b[0m\u001b[1;33m\u001b[0m\u001b[0m\n\u001b[1;32m---> 46\u001b[1;33m             \u001b[0mQ_sa\u001b[0m \u001b[1;33m=\u001b[0m \u001b[0mnp\u001b[0m\u001b[1;33m.\u001b[0m\u001b[0mmax\u001b[0m\u001b[1;33m(\u001b[0m\u001b[0mself\u001b[0m\u001b[1;33m.\u001b[0m\u001b[0mpredict\u001b[0m\u001b[1;33m(\u001b[0m\u001b[0menvstate_next\u001b[0m\u001b[1;33m)\u001b[0m\u001b[1;33m)\u001b[0m\u001b[1;33m\u001b[0m\u001b[1;33m\u001b[0m\u001b[0m\n\u001b[0m\u001b[0;32m     47\u001b[0m             \u001b[1;32mif\u001b[0m \u001b[0mgame_over\u001b[0m\u001b[1;33m:\u001b[0m\u001b[1;33m\u001b[0m\u001b[1;33m\u001b[0m\u001b[0m\n\u001b[0;32m     48\u001b[0m                 \u001b[0mtargets\u001b[0m\u001b[1;33m[\u001b[0m\u001b[0mi\u001b[0m\u001b[1;33m,\u001b[0m \u001b[0maction\u001b[0m\u001b[1;33m]\u001b[0m \u001b[1;33m=\u001b[0m \u001b[0mreward\u001b[0m\u001b[1;33m\u001b[0m\u001b[1;33m\u001b[0m\u001b[0m\n",
      "\u001b[1;32mU:\\TreasureHuntGame\\GameExperience.py\u001b[0m in \u001b[0;36mpredict\u001b[1;34m(self, envstate)\u001b[0m\n\u001b[0;32m     29\u001b[0m     \u001b[1;31m# Predicts the next action based on the current environment state\u001b[0m\u001b[1;33m\u001b[0m\u001b[1;33m\u001b[0m\u001b[1;33m\u001b[0m\u001b[0m\n\u001b[0;32m     30\u001b[0m     \u001b[1;32mdef\u001b[0m \u001b[0mpredict\u001b[0m\u001b[1;33m(\u001b[0m\u001b[0mself\u001b[0m\u001b[1;33m,\u001b[0m \u001b[0menvstate\u001b[0m\u001b[1;33m)\u001b[0m\u001b[1;33m:\u001b[0m\u001b[1;33m\u001b[0m\u001b[1;33m\u001b[0m\u001b[0m\n\u001b[1;32m---> 31\u001b[1;33m         \u001b[1;32mreturn\u001b[0m \u001b[0mself\u001b[0m\u001b[1;33m.\u001b[0m\u001b[0mmodel\u001b[0m\u001b[1;33m.\u001b[0m\u001b[0mpredict\u001b[0m\u001b[1;33m(\u001b[0m\u001b[0menvstate\u001b[0m\u001b[1;33m)\u001b[0m\u001b[1;33m[\u001b[0m\u001b[1;36m0\u001b[0m\u001b[1;33m]\u001b[0m\u001b[1;33m\u001b[0m\u001b[1;33m\u001b[0m\u001b[0m\n\u001b[0m\u001b[0;32m     32\u001b[0m \u001b[1;33m\u001b[0m\u001b[0m\n\u001b[0;32m     33\u001b[0m     \u001b[1;31m# Returns input and targets from memory, defaults to data size of 10\u001b[0m\u001b[1;33m\u001b[0m\u001b[1;33m\u001b[0m\u001b[1;33m\u001b[0m\u001b[0m\n",
      "\u001b[1;32mC:\\ProgramData\\Anaconda3\\lib\\site-packages\\keras\\engine\\training.py\u001b[0m in \u001b[0;36mpredict\u001b[1;34m(self, x, batch_size, verbose, steps, callbacks, max_queue_size, workers, use_multiprocessing)\u001b[0m\n\u001b[0;32m   1460\u001b[0m                                             \u001b[0mverbose\u001b[0m\u001b[1;33m=\u001b[0m\u001b[0mverbose\u001b[0m\u001b[1;33m,\u001b[0m\u001b[1;33m\u001b[0m\u001b[1;33m\u001b[0m\u001b[0m\n\u001b[0;32m   1461\u001b[0m                                             \u001b[0msteps\u001b[0m\u001b[1;33m=\u001b[0m\u001b[0msteps\u001b[0m\u001b[1;33m,\u001b[0m\u001b[1;33m\u001b[0m\u001b[1;33m\u001b[0m\u001b[0m\n\u001b[1;32m-> 1462\u001b[1;33m                                             callbacks=callbacks)\n\u001b[0m\u001b[0;32m   1463\u001b[0m \u001b[1;33m\u001b[0m\u001b[0m\n\u001b[0;32m   1464\u001b[0m     def train_on_batch(self, x, y,\n",
      "\u001b[1;32mC:\\ProgramData\\Anaconda3\\lib\\site-packages\\keras\\engine\\training_arrays.py\u001b[0m in \u001b[0;36mpredict_loop\u001b[1;34m(model, f, ins, batch_size, verbose, steps, callbacks)\u001b[0m\n\u001b[0;32m    322\u001b[0m             \u001b[0mbatch_logs\u001b[0m \u001b[1;33m=\u001b[0m \u001b[1;33m{\u001b[0m\u001b[1;34m'batch'\u001b[0m\u001b[1;33m:\u001b[0m \u001b[0mbatch_index\u001b[0m\u001b[1;33m,\u001b[0m \u001b[1;34m'size'\u001b[0m\u001b[1;33m:\u001b[0m \u001b[0mlen\u001b[0m\u001b[1;33m(\u001b[0m\u001b[0mbatch_ids\u001b[0m\u001b[1;33m)\u001b[0m\u001b[1;33m}\u001b[0m\u001b[1;33m\u001b[0m\u001b[1;33m\u001b[0m\u001b[0m\n\u001b[0;32m    323\u001b[0m             \u001b[0mcallbacks\u001b[0m\u001b[1;33m.\u001b[0m\u001b[0m_call_batch_hook\u001b[0m\u001b[1;33m(\u001b[0m\u001b[1;34m'predict'\u001b[0m\u001b[1;33m,\u001b[0m \u001b[1;34m'begin'\u001b[0m\u001b[1;33m,\u001b[0m \u001b[0mbatch_index\u001b[0m\u001b[1;33m,\u001b[0m \u001b[0mbatch_logs\u001b[0m\u001b[1;33m)\u001b[0m\u001b[1;33m\u001b[0m\u001b[1;33m\u001b[0m\u001b[0m\n\u001b[1;32m--> 324\u001b[1;33m             \u001b[0mbatch_outs\u001b[0m \u001b[1;33m=\u001b[0m \u001b[0mf\u001b[0m\u001b[1;33m(\u001b[0m\u001b[0mins_batch\u001b[0m\u001b[1;33m)\u001b[0m\u001b[1;33m\u001b[0m\u001b[1;33m\u001b[0m\u001b[0m\n\u001b[0m\u001b[0;32m    325\u001b[0m             \u001b[0mbatch_outs\u001b[0m \u001b[1;33m=\u001b[0m \u001b[0mto_list\u001b[0m\u001b[1;33m(\u001b[0m\u001b[0mbatch_outs\u001b[0m\u001b[1;33m)\u001b[0m\u001b[1;33m\u001b[0m\u001b[1;33m\u001b[0m\u001b[0m\n\u001b[0;32m    326\u001b[0m             \u001b[1;32mif\u001b[0m \u001b[0mbatch_index\u001b[0m \u001b[1;33m==\u001b[0m \u001b[1;36m0\u001b[0m\u001b[1;33m:\u001b[0m\u001b[1;33m\u001b[0m\u001b[1;33m\u001b[0m\u001b[0m\n",
      "\u001b[1;32mC:\\ProgramData\\Anaconda3\\lib\\site-packages\\tensorflow_core\\python\\keras\\backend.py\u001b[0m in \u001b[0;36m__call__\u001b[1;34m(self, inputs)\u001b[0m\n\u001b[0;32m   3725\u001b[0m         \u001b[0mvalue\u001b[0m \u001b[1;33m=\u001b[0m \u001b[0mmath_ops\u001b[0m\u001b[1;33m.\u001b[0m\u001b[0mcast\u001b[0m\u001b[1;33m(\u001b[0m\u001b[0mvalue\u001b[0m\u001b[1;33m,\u001b[0m \u001b[0mtensor\u001b[0m\u001b[1;33m.\u001b[0m\u001b[0mdtype\u001b[0m\u001b[1;33m)\u001b[0m\u001b[1;33m\u001b[0m\u001b[1;33m\u001b[0m\u001b[0m\n\u001b[0;32m   3726\u001b[0m       \u001b[0mconverted_inputs\u001b[0m\u001b[1;33m.\u001b[0m\u001b[0mappend\u001b[0m\u001b[1;33m(\u001b[0m\u001b[0mvalue\u001b[0m\u001b[1;33m)\u001b[0m\u001b[1;33m\u001b[0m\u001b[1;33m\u001b[0m\u001b[0m\n\u001b[1;32m-> 3727\u001b[1;33m     \u001b[0moutputs\u001b[0m \u001b[1;33m=\u001b[0m \u001b[0mself\u001b[0m\u001b[1;33m.\u001b[0m\u001b[0m_graph_fn\u001b[0m\u001b[1;33m(\u001b[0m\u001b[1;33m*\u001b[0m\u001b[0mconverted_inputs\u001b[0m\u001b[1;33m)\u001b[0m\u001b[1;33m\u001b[0m\u001b[1;33m\u001b[0m\u001b[0m\n\u001b[0m\u001b[0;32m   3728\u001b[0m \u001b[1;33m\u001b[0m\u001b[0m\n\u001b[0;32m   3729\u001b[0m     \u001b[1;31m# EagerTensor.numpy() will often make a copy to ensure memory safety.\u001b[0m\u001b[1;33m\u001b[0m\u001b[1;33m\u001b[0m\u001b[1;33m\u001b[0m\u001b[0m\n",
      "\u001b[1;32mC:\\ProgramData\\Anaconda3\\lib\\site-packages\\tensorflow_core\\python\\eager\\function.py\u001b[0m in \u001b[0;36m__call__\u001b[1;34m(self, *args, **kwargs)\u001b[0m\n\u001b[0;32m   1549\u001b[0m       \u001b[0mTypeError\u001b[0m\u001b[1;33m:\u001b[0m \u001b[0mFor\u001b[0m \u001b[0minvalid\u001b[0m \u001b[0mpositional\u001b[0m\u001b[1;33m/\u001b[0m\u001b[0mkeyword\u001b[0m \u001b[0margument\u001b[0m \u001b[0mcombinations\u001b[0m\u001b[1;33m.\u001b[0m\u001b[1;33m\u001b[0m\u001b[1;33m\u001b[0m\u001b[0m\n\u001b[0;32m   1550\u001b[0m     \"\"\"\n\u001b[1;32m-> 1551\u001b[1;33m     \u001b[1;32mreturn\u001b[0m \u001b[0mself\u001b[0m\u001b[1;33m.\u001b[0m\u001b[0m_call_impl\u001b[0m\u001b[1;33m(\u001b[0m\u001b[0margs\u001b[0m\u001b[1;33m,\u001b[0m \u001b[0mkwargs\u001b[0m\u001b[1;33m)\u001b[0m\u001b[1;33m\u001b[0m\u001b[1;33m\u001b[0m\u001b[0m\n\u001b[0m\u001b[0;32m   1552\u001b[0m \u001b[1;33m\u001b[0m\u001b[0m\n\u001b[0;32m   1553\u001b[0m   \u001b[1;32mdef\u001b[0m \u001b[0m_call_impl\u001b[0m\u001b[1;33m(\u001b[0m\u001b[0mself\u001b[0m\u001b[1;33m,\u001b[0m \u001b[0margs\u001b[0m\u001b[1;33m,\u001b[0m \u001b[0mkwargs\u001b[0m\u001b[1;33m,\u001b[0m \u001b[0mcancellation_manager\u001b[0m\u001b[1;33m=\u001b[0m\u001b[1;32mNone\u001b[0m\u001b[1;33m)\u001b[0m\u001b[1;33m:\u001b[0m\u001b[1;33m\u001b[0m\u001b[1;33m\u001b[0m\u001b[0m\n",
      "\u001b[1;32mC:\\ProgramData\\Anaconda3\\lib\\site-packages\\tensorflow_core\\python\\eager\\function.py\u001b[0m in \u001b[0;36m_call_impl\u001b[1;34m(self, args, kwargs, cancellation_manager)\u001b[0m\n\u001b[0;32m   1589\u001b[0m       raise TypeError(\"Keyword arguments {} unknown. Expected {}.\".format(\n\u001b[0;32m   1590\u001b[0m           list(kwargs.keys()), list(self._arg_keywords)))\n\u001b[1;32m-> 1591\u001b[1;33m     \u001b[1;32mreturn\u001b[0m \u001b[0mself\u001b[0m\u001b[1;33m.\u001b[0m\u001b[0m_call_flat\u001b[0m\u001b[1;33m(\u001b[0m\u001b[0margs\u001b[0m\u001b[1;33m,\u001b[0m \u001b[0mself\u001b[0m\u001b[1;33m.\u001b[0m\u001b[0mcaptured_inputs\u001b[0m\u001b[1;33m,\u001b[0m \u001b[0mcancellation_manager\u001b[0m\u001b[1;33m)\u001b[0m\u001b[1;33m\u001b[0m\u001b[1;33m\u001b[0m\u001b[0m\n\u001b[0m\u001b[0;32m   1592\u001b[0m \u001b[1;33m\u001b[0m\u001b[0m\n\u001b[0;32m   1593\u001b[0m   \u001b[1;32mdef\u001b[0m \u001b[0m_filtered_call\u001b[0m\u001b[1;33m(\u001b[0m\u001b[0mself\u001b[0m\u001b[1;33m,\u001b[0m \u001b[0margs\u001b[0m\u001b[1;33m,\u001b[0m \u001b[0mkwargs\u001b[0m\u001b[1;33m)\u001b[0m\u001b[1;33m:\u001b[0m\u001b[1;33m\u001b[0m\u001b[1;33m\u001b[0m\u001b[0m\n",
      "\u001b[1;32mC:\\ProgramData\\Anaconda3\\lib\\site-packages\\tensorflow_core\\python\\eager\\function.py\u001b[0m in \u001b[0;36m_call_flat\u001b[1;34m(self, args, captured_inputs, cancellation_manager)\u001b[0m\n\u001b[0;32m   1690\u001b[0m       \u001b[1;31m# No tape is watching; skip to running the function.\u001b[0m\u001b[1;33m\u001b[0m\u001b[1;33m\u001b[0m\u001b[1;33m\u001b[0m\u001b[0m\n\u001b[0;32m   1691\u001b[0m       return self._build_call_outputs(self._inference_function.call(\n\u001b[1;32m-> 1692\u001b[1;33m           ctx, args, cancellation_manager=cancellation_manager))\n\u001b[0m\u001b[0;32m   1693\u001b[0m     forward_backward = self._select_forward_and_backward_functions(\n\u001b[0;32m   1694\u001b[0m         \u001b[0margs\u001b[0m\u001b[1;33m,\u001b[0m\u001b[1;33m\u001b[0m\u001b[1;33m\u001b[0m\u001b[0m\n",
      "\u001b[1;32mC:\\ProgramData\\Anaconda3\\lib\\site-packages\\tensorflow_core\\python\\eager\\function.py\u001b[0m in \u001b[0;36mcall\u001b[1;34m(self, ctx, args, cancellation_manager)\u001b[0m\n\u001b[0;32m    543\u001b[0m               \u001b[0minputs\u001b[0m\u001b[1;33m=\u001b[0m\u001b[0margs\u001b[0m\u001b[1;33m,\u001b[0m\u001b[1;33m\u001b[0m\u001b[1;33m\u001b[0m\u001b[0m\n\u001b[0;32m    544\u001b[0m               \u001b[0mattrs\u001b[0m\u001b[1;33m=\u001b[0m\u001b[1;33m(\u001b[0m\u001b[1;34m\"executor_type\"\u001b[0m\u001b[1;33m,\u001b[0m \u001b[0mexecutor_type\u001b[0m\u001b[1;33m,\u001b[0m \u001b[1;34m\"config_proto\"\u001b[0m\u001b[1;33m,\u001b[0m \u001b[0mconfig\u001b[0m\u001b[1;33m)\u001b[0m\u001b[1;33m,\u001b[0m\u001b[1;33m\u001b[0m\u001b[1;33m\u001b[0m\u001b[0m\n\u001b[1;32m--> 545\u001b[1;33m               ctx=ctx)\n\u001b[0m\u001b[0;32m    546\u001b[0m         \u001b[1;32melse\u001b[0m\u001b[1;33m:\u001b[0m\u001b[1;33m\u001b[0m\u001b[1;33m\u001b[0m\u001b[0m\n\u001b[0;32m    547\u001b[0m           outputs = execute.execute_with_cancellation(\n",
      "\u001b[1;32mC:\\ProgramData\\Anaconda3\\lib\\site-packages\\tensorflow_core\\python\\eager\\execute.py\u001b[0m in \u001b[0;36mquick_execute\u001b[1;34m(op_name, num_outputs, inputs, attrs, ctx, name)\u001b[0m\n\u001b[0;32m     59\u001b[0m     tensors = pywrap_tensorflow.TFE_Py_Execute(ctx._handle, device_name,\n\u001b[0;32m     60\u001b[0m                                                \u001b[0mop_name\u001b[0m\u001b[1;33m,\u001b[0m \u001b[0minputs\u001b[0m\u001b[1;33m,\u001b[0m \u001b[0mattrs\u001b[0m\u001b[1;33m,\u001b[0m\u001b[1;33m\u001b[0m\u001b[1;33m\u001b[0m\u001b[0m\n\u001b[1;32m---> 61\u001b[1;33m                                                num_outputs)\n\u001b[0m\u001b[0;32m     62\u001b[0m   \u001b[1;32mexcept\u001b[0m \u001b[0mcore\u001b[0m\u001b[1;33m.\u001b[0m\u001b[0m_NotOkStatusException\u001b[0m \u001b[1;32mas\u001b[0m \u001b[0me\u001b[0m\u001b[1;33m:\u001b[0m\u001b[1;33m\u001b[0m\u001b[1;33m\u001b[0m\u001b[0m\n\u001b[0;32m     63\u001b[0m     \u001b[1;32mif\u001b[0m \u001b[0mname\u001b[0m \u001b[1;32mis\u001b[0m \u001b[1;32mnot\u001b[0m \u001b[1;32mNone\u001b[0m\u001b[1;33m:\u001b[0m\u001b[1;33m\u001b[0m\u001b[1;33m\u001b[0m\u001b[0m\n",
      "\u001b[1;31mKeyboardInterrupt\u001b[0m: "
     ]
    }
   ],
   "source": [
    "model = build_model(maze)\n",
    "qtrain(model, maze, epochs=1000, max_memory=8*maze.size, data_size=32)"
   ]
  },
  {
   "cell_type": "markdown",
   "metadata": {},
   "source": [
    "This cell will check to see if the model passes the completion check. Note: This could take several minutes."
   ]
  },
  {
   "cell_type": "code",
   "execution_count": 143,
   "metadata": {},
   "outputs": [
    {
     "data": {
      "text/plain": [
       "<matplotlib.image.AxesImage at 0x2a9984042c8>"
      ]
     },
     "execution_count": 143,
     "metadata": {},
     "output_type": "execute_result"
    },
    {
     "data": {
      "image/png": "[encoded data removed]",
      "text/plain": [
       "<Figure size 432x288 with 1 Axes>"
      ]
     },
     "metadata": {
      "needs_background": "light"
     },
     "output_type": "display_data"
    }
   ],
   "source": [
    "completion_check(model, qmaze)\n",
    "show(qmaze)"
   ]
  },
  {
   "cell_type": "markdown",
   "metadata": {},
   "source": [
    "This cell will test your model for one game. It will start the pirate at the top-left corner and run play_game. The agent should find a path from the starting position to the target (treasure). The treasure is located in the bottom-right corner."
   ]
  },
  {
   "cell_type": "code",
   "execution_count": 144,
   "metadata": {},
   "outputs": [
    {
     "data": {
      "text/plain": [
       "<matplotlib.image.AxesImage at 0x2a9984cb8c8>"
      ]
     },
     "execution_count": 144,
     "metadata": {},
     "output_type": "execute_result"
    },
    {
     "data": {
      "image/png": "[encoded data removed]",
      "text/plain": [
       "<Figure size 432x288 with 1 Axes>"
      ]
     },
     "metadata": {
      "needs_background": "light"
     },
     "output_type": "display_data"
    }
   ],
   "source": [
    "pirate_start = (0, 0)\n",
    "play_game(model, qmaze, pirate_start)\n",
    "show(qmaze)"
   ]
  },
  {
   "cell_type": "markdown",
   "metadata": {},
   "source": [
    "## Save and Submit Your Work\n",
    "After you have finished creating the code for your notebook, save your work. Make sure that your notebook contains your name in the filename (e.g. Doe_Jane_ProjectTwo.ipynb). This will help your instructor access and grade your work easily. Download a copy of your IPYNB file and submit it to Brightspace. Refer to the Jupyter Notebook in Apporto Tutorial if you need help with these tasks."
   ]
  }
 ],
 "metadata": {
  "kernelspec": {
   "display_name": "Python 3",
   "language": "python",
   "name": "python3"
  },
  "language_info": {
   "codemirror_mode": {
    "name": "ipython",
    "version": 3
   },
   "file_extension": ".py",
   "mimetype": "text/x-python",
   "name": "python",
   "nbconvert_exporter": "python",
   "pygments_lexer": "ipython3",
   "version": "3.7.4"
  }
 },
 "nbformat": 4,
 "nbformat_minor": 2
}
